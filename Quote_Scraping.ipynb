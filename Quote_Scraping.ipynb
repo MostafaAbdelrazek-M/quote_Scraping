{
 "cells": [
  {
   "cell_type": "markdown",
   "id": "df465f5c-409d-4a69-9dfc-4988df7afc09",
   "metadata": {},
   "source": [
    "# 1-) Firstly import libraries"
   ]
  },
  {
   "cell_type": "code",
   "execution_count": 24,
   "id": "f9dd2044-77fc-46f1-b164-252e790c77d7",
   "metadata": {},
   "outputs": [],
   "source": [
    "import pandas as pd\n",
    "import re\n",
    "from bs4 import BeautifulSoup as bs\n",
    "from urllib.request import  urlopen"
   ]
  },
  {
   "cell_type": "markdown",
   "id": "2f6ad0fe-ad3d-4beb-a20b-4aa60b6fd8a3",
   "metadata": {},
   "source": [
    "# 2-) Scrape Data From range of pages"
   ]
  },
  {
   "cell_type": "code",
   "execution_count": 29,
   "id": "8d35e280-bf12-4404-9728-006f9a4c150f",
   "metadata": {},
   "outputs": [
    {
     "name": "stderr",
     "output_type": "stream",
     "text": [
      "<>:1: SyntaxWarning: invalid escape sequence '\\A'\n",
      "<>:1: SyntaxWarning: invalid escape sequence '\\A'\n",
      "C:\\Users\\mosta\\AppData\\Local\\Temp\\ipykernel_14452\\2188545191.py:1: SyntaxWarning: invalid escape sequence '\\A'\n",
      "  path = 'D:\\All_proJects\\WebScraping\\Quote\\AllFiles\\\\'\n"
     ]
    }
   ],
   "source": [
    "path = 'D:\\All_proJects\\WebScraping\\Quote\\AllFiles\\\\'"
   ]
  },
  {
   "cell_type": "code",
   "execution_count": 26,
   "id": "2b94dd8b-ddd8-4acb-a11a-0b75ce7ed0c2",
   "metadata": {},
   "outputs": [],
   "source": [
    "# scrape some information from page 1 to 9\n",
    "for page_number in range(1,10):\n",
    "\n",
    "    # Site Url (Sorted it in url var)\n",
    "    url = f'https://quotes.toscrape.com/page/{page_number}/'\n",
    "\n",
    "    # Now Loading the Page from Site at my code\n",
    "    Loading_Page = urlopen(url)\n",
    "\n",
    "    # Reading The Data From Site but it Not Readable\n",
    "    Html = Loading_Page.read()\n",
    "\n",
    "    # Close the Concat From Me and Site\n",
    "    Loading_Page.close()\n",
    "\n",
    "    # Using BeautifulSoup and html.parser to make Our Data more readable\n",
    "    soup = bs(Html,'html.parser')\n",
    "    # Chose the main div have our data by his class and sort it in my var\n",
    "    Containers = soup.find_all('div' , {'class':'quote'})\n",
    "\n",
    "    # you can check of number of values at page\n",
    "    # len(Containers)\n",
    "\n",
    "    # try to get exact value we want\n",
    "    # Containers[0].findAll('small',{'class':'author'})[0].text\n",
    "\n",
    "    # Opening File to Save page by page Every time Saving the information saving it at file\n",
    "    with open(fr'{path}page_{page_number}.csv','w') as f:\n",
    "\n",
    "        f.write(\"Text,author\\n\")\n",
    "\n",
    "        for i in Containers:\n",
    "\n",
    "            Text = i.find_all('span',{'class':'text'})[0].text\n",
    "            Text = re.sub(r'[,’′”“′-]' , '' , Text)\n",
    "            \n",
    "\n",
    "            author = i.find_all('small',{'class':'author'})[0].text\n",
    "\n",
    "            f.write(Text + ',' + author + '\\n')\n"
   ]
  },
  {
   "cell_type": "markdown",
   "id": "5c505e2d-7019-4ab1-a01b-c5b6b67ad9f8",
   "metadata": {},
   "source": [
    "# 3-) Collect All Of Data in Files"
   ]
  },
  {
   "cell_type": "code",
   "execution_count": 27,
   "id": "9766377f-7fb0-4930-b370-968d0810efbd",
   "metadata": {},
   "outputs": [],
   "source": [
    "#open All Files\n",
    "\n",
    "# Empty list For Sort All Files as DataFrame\n",
    "l = []\n",
    "\n",
    "# Range of Number of files Created\n",
    "for i in range(1,10):\n",
    "    i = pd.read_csv(fr'{path}page_{i}.csv')\n",
    "    l.append(i)\n",
    "# (l)\n",
    "# Create Empty DataFrame\n",
    "data = pd.DataFrame()\n",
    "# Looping at list And Every Time Update the data by concat the last data with current DataFrame\n",
    "for i in l :\n",
    "    data = pd.concat([data,i] , axis=0)\n",
    "# Saving AllData at One File\n",
    "data.to_csv(fr'{path}\\All_Data.csv')"
   ]
  },
  {
   "cell_type": "code",
   "execution_count": null,
   "id": "53957e1a-b156-4034-9d29-f35a7da0fdc2",
   "metadata": {},
   "outputs": [],
   "source": []
  },
  {
   "cell_type": "code",
   "execution_count": null,
   "id": "49cb5f85-1fda-4203-b31d-70a796b1f18f",
   "metadata": {},
   "outputs": [],
   "source": [
    "\n"
   ]
  },
  {
   "cell_type": "code",
   "execution_count": null,
   "id": "cdb3adbc-e0e5-48b6-8623-05639f365391",
   "metadata": {},
   "outputs": [],
   "source": []
  },
  {
   "cell_type": "code",
   "execution_count": null,
   "id": "1977275d-2c52-4158-80b5-8080b2aae23c",
   "metadata": {},
   "outputs": [],
   "source": []
  },
  {
   "cell_type": "code",
   "execution_count": null,
   "id": "13230390-f9b2-47f1-8341-5c3f7af63cd6",
   "metadata": {},
   "outputs": [],
   "source": []
  },
  {
   "cell_type": "code",
   "execution_count": null,
   "id": "d42f691f-6fc1-44cd-a5b8-a8dff2c8e12e",
   "metadata": {},
   "outputs": [],
   "source": []
  },
  {
   "cell_type": "code",
   "execution_count": null,
   "id": "a9593524-6b17-4490-9a27-3e4b04fd5572",
   "metadata": {},
   "outputs": [],
   "source": []
  },
  {
   "cell_type": "code",
   "execution_count": null,
   "id": "8e0778bf-40cf-44fd-ac9f-ab25847cb996",
   "metadata": {},
   "outputs": [],
   "source": []
  },
  {
   "cell_type": "code",
   "execution_count": null,
   "id": "a55051c1-6682-4d91-9437-46ce13576f4f",
   "metadata": {},
   "outputs": [],
   "source": []
  },
  {
   "cell_type": "code",
   "execution_count": null,
   "id": "e9dfa96f-661d-42c1-9932-a125efec9c03",
   "metadata": {},
   "outputs": [],
   "source": []
  },
  {
   "cell_type": "code",
   "execution_count": null,
   "id": "66e86e2b-6cec-4acc-9294-0d37be39a7e3",
   "metadata": {},
   "outputs": [],
   "source": []
  },
  {
   "cell_type": "code",
   "execution_count": null,
   "id": "7ff3fa69-851a-4885-9b82-ce25b4907a12",
   "metadata": {},
   "outputs": [],
   "source": []
  },
  {
   "cell_type": "code",
   "execution_count": null,
   "id": "19ef9f73-4dcb-449a-ae75-cafbdab751b6",
   "metadata": {},
   "outputs": [],
   "source": []
  }
 ],
 "metadata": {
  "kernelspec": {
   "display_name": "Python 3 (ipykernel)",
   "language": "python",
   "name": "python3"
  },
  "language_info": {
   "codemirror_mode": {
    "name": "ipython",
    "version": 3
   },
   "file_extension": ".py",
   "mimetype": "text/x-python",
   "name": "python",
   "nbconvert_exporter": "python",
   "pygments_lexer": "ipython3",
   "version": "3.13.2"
  }
 },
 "nbformat": 4,
 "nbformat_minor": 5
}
